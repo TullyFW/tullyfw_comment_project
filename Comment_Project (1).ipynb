{
 "cells": [
  {
   "cell_type": "code",
   "execution_count": 2,
   "metadata": {
    "collapsed": false
   },
   "outputs": [
    {
     "name": "stdout",
     "output_type": "stream",
     "text": [
      "{'Bob': {'Class': 'Spanish 1', 'Reading': 3.0, 'Writing': 4.0, 'Written Test Average': 90.0, 'Speaking': 3.5, 'Oral Exam Grade': 93.0, 'Listening': 4.0, 'Engagement and Participation': 3.0, 'Homework Completion': 100.0, 'Collaboration': 'work well with your peers', 'Semester Final': 92.0, 'Reading - Previous Semester': 3.0, 'Writing - Previous Semester': 3.0, 'Speaking - Previous Semester': 3.0, 'Listening - Previous Semester': 4.0, 'Additional information': \"I'm excited to see more good work from you in the coming years.\"}, 'Sarah': {'Class': 'Spanish 2', 'Reading': 2.5, 'Writing': 3.0, 'Written Test Average': 85.0, 'Speaking': 4.0, 'Oral Exam Grade': 95.0, 'Listening': 3.0, 'Engagement and Participation': 2.0, 'Homework Completion': 80.0, 'Collaboration': 'You need to ask more questions ', 'Semester Final': 87.0, 'Reading - Previous Semester': 2.0, 'Writing - Previous Semester': 3.0, 'Speaking - Previous Semester': 4.0, 'Listening - Previous Semester': 3.0, 'Additional information': \"Sarah, you've made many improvements but I would meet with you more often.\"}, 'Jessie': {'Class': 'Spanish 2', 'Reading': 4.0, 'Writing': 3.5, 'Written Test Average': 95.0, 'Speaking': 3.0, 'Oral Exam Grade': 90.0, 'Listening': 4.0, 'Engagement and Participation': 4.0, 'Homework Completion': 97.0, 'Collaboration': 'You help your peers with classwork', 'Semester Final': 93.0, 'Reading - Previous Semester': 4.0, 'Writing - Previous Semester': 3.0, 'Speaking - Previous Semester': 4.0, 'Listening - Previous Semester': 3.0, 'Additional information': ' '}, 'Dan': {'Class': 'Spanish 3', 'Reading': 2.0, 'Writing': 1.0, 'Written Test Average': 75.0, 'Speaking': 2.5, 'Oral Exam Grade': 81.0, 'Listening': 3.0, 'Engagement and Participation': 1.0, 'Homework Completion': 50.0, 'Collaboration': 'often need significant help from peers and myself', 'Semester Final': 65.0, 'Reading - Previous Semester': 2.0, 'Writing - Previous Semester': 2.0, 'Speaking - Previous Semester': 3.0, 'Listening - Previous Semester': 3.0, 'Additional information': 'I would like to have more homework turned in so that you can thrive in this class. Seems like COVID has been hard for you.'}}\n"
     ]
    }
   ],
   "source": [
    "import csv\n",
    "with open(\"comment_spreadsheet.csv\") as f:\n",
    "    info = csv.reader(f)\n",
    "    header = next(info)\n",
    "    data = list(info)\n",
    "    for line in data:\n",
    "        for i,x in enumerate(line):\n",
    "            try:\n",
    "                line[i] = float(x)\n",
    "            except ValueError:\n",
    "                pass\n",
    "    clean_header = [line.split(\"(\")[0].strip() for line in header[1:]]\n",
    "    students = {line[0]: {key: val for key,val in zip(clean_header,line[1:])} for line in data}\n",
    "    print(students)"
   ]
  },
  {
   "cell_type": "code",
   "execution_count": 33,
   "metadata": {
    "collapsed": false
   },
   "outputs": [
   ],
   "source": [
    "def pretty_list(l:list):\n",
    "    text = \"\"\n",
    "    if not len(l) - 1:\n",
    "        return l[0]\n",
    "    for indicator in l[:-1]:\n",
    "        text += f\"{indicator} \"\n",
    "    return text + \"and \" + l[-1]"
   ]
  },
  {
   "cell_type": "code",
   "execution_count": 26,
   "metadata": {
    "collapsed": false
   },
   "outputs": [
    {
     "name": "stdout",
     "output_type": "stream",
     "text": [
      "Spanish 2 : Intermediate level Spanish\n"
     ]
    }
   ],
   "source": [
    "def course_description(name):\n",
    "    x = students[name]\n",
    "    x['Class']\n",
    "    course_level = {'Spanish 1': \"Beginning level Spanish\", 'Spanish 2': \"Intermediate level Spanish\", \"Spanish 3\": \"Advanced level Spanish\"}\n",
    "    print(x['Class'],\":\", course_level[x['Class']])\n",
    "\n",
    "course_description(\"Jessie\")"
   ]
  },
  {
   "cell_type": "code",
   "execution_count": 27,
   "metadata": {
    "collapsed": false
   },
   "outputs": [
    {
     "name": "stdout",
     "output_type": "stream",
     "text": [
      "I've noticed some great improvements from you since the last semester. I can tell you put in a lot of work to perfect your skills in listening because I've noticed huge improvements there, even improving to a 4! You've made great strides in writing and listening, too. Unfortunately, it seems like this semester you're struggling more than before with speaking, but I think that's just a small thing you need to work on that I'm sure you'll continue to develop over time.\n"
     ]
    }
   ],
   "source": [
    "def improvement(student):\n",
    "    text = \"\"\n",
    "    indicators = [(ind,val) for ind,val in students[student].items() if type(val) == float and val <=4]\n",
    "    current_sem = indicators[0:4]\n",
    "    prev_sem = [x[1] for x in indicators[5:]]\n",
    "    better = []\n",
    "    worse = []\n",
    "    for (indicator,current),prev in zip(current_sem,prev_sem):\n",
    "        if current > prev:\n",
    "            better.append((indicator,prev,current))\n",
    "        elif current < prev:\n",
    "            worse.append(indicator)\n",
    "    if better:\n",
    "        text += \"I've noticed some great improvements from you since the last semester. \"\n",
    "        fours = [x[0].lower() for x in better if x[2] == 4.0]\n",
    "        if fours:\n",
    "            text += f\"I can tell you put in a lot of work to perfect your skills in {pretty_list(fours)} because I've noticed huge improvements there, even improving to a 4! \"\n",
    "        non_fours = [x[0].lower() for x in better if x[1] != 4.0]\n",
    "        text += f\"You've made great strides in {pretty_list(non_fours)}\"\n",
    "        text += \", too. \" if fours else text + \". \"\n",
    "    if worse:\n",
    "        text += f\"Unfortunately, it seems like this semester you're struggling more than before with {pretty_list(worse).lower()}\"\n",
    "        text += \", but I think that's just a small thing you need to work on that I'm sure you'll continue to develop over time.\" if len(worse) == 1 else \", and I hope that you'll be able to find ways to bounce back and improve in those areas, because I know you're capable of great things.\"\n",
    "    return text\n",
    "print(improvement(\"Jessie\"))"
   ]
  },
  {
   "cell_type": "code",
   "execution_count": 31,
   "metadata": {
    "collapsed": false,
    "scrolled": true
   },
   "outputs": [
    {
     "name": "stdout",
     "output_type": "stream",
     "text": [
      "Engagement and Participation: 3.0\n"
     ]
    },
    {
     "data": {
      "text/plain": [
       "\"You are engaged during class and look to learn more. I can tell that you're continuing to develop your skills and pay attention well during class, but I would like to hear your voice a little more often. In terms of homework completion, you have a stellar work ethic, and completed 100% of assignments! I can count on you to manage your time wisely and turn in assignments on time.\""
      ]
     },
     "execution_count": 31,
     "metadata": {
     },
     "output_type": "execute_result"
    }
   ],
   "source": [
    "def participation(name):\n",
    "    student = students[name]\n",
    "    score = student[\"Engagement and Participation\"]\n",
    "    print(f\"Engagement and Participation: {score}\")\n",
    "    hw_percent = student[\"Homework Completion\"]\n",
    "    if score <= 1:\n",
    "        text = \"In this class you have not been participating enough. You mostly speak in English and avoid speaking Spanish even during activities when we're trying to practice speaking the language, you almost never raise your hand to offer answers in class, and you're generally not paying attention during class. You need sufficient help from me to produce answers and I think there definitely needs to be some work here to become more confident and engaged during class. \"\n",
    "    elif score <= 2:\n",
    "        text = \"Your participation and engagement in class this year has been somewhat subdued. I know that you still are trying, but you need to find strategies to be more confident and offer your input in class more often. \"\n",
    "    elif score <= 3:\n",
    "        text = \"You are engaged during class and look to learn more. I can tell that you're continuing to develop your skills and pay attention well during class, but I would like to hear your voice a little more often. \"\n",
    "    elif score == 4:\n",
    "        text = \"You are an integral part of our class and are always ready to engage in class and try your hardest to learn more. I love your excitement for learning and your confidence. Speaking a foreign language can feel embarrassing, but you are able to move past that fear and are willing to make mistakes. I love hearing your input in class. \"\n",
    "    text += \"In terms of homework completion, \"\n",
    "    if hw_percent < 80:\n",
    "        text += f\"you haven't been consistent in managing it. You only completed {hw_percent}% of your homework assignments this semester. I think you would benefit from meeting with me more often to check in about homework, because your procrastination is becoming a much bigger problem. \"\n",
    "    elif hw_percent < 90:\n",
    "        text += f\"you've been relatively consistent, but I think you should try to make sure to stay on top of those assignments that might slip through the cracks. You completed {hw_percent}% of your assignments this semester.\"\n",
    "    elif hw_percent != 100:\n",
    "        text += f\"you've been quite consistent, aside from a few assignments here and there that slipped through the cracks. I can tell you're managing your time well and can turn things in on time. You completed {hw_percent}% of your assignments this semester.\"\n",
    "    else:\n",
    "        text += \"you have a stellar work ethic, and completed 100% of assignments! I can count on you to manage your time wisely and turn in assignments on time.\"\n",
    "    return text\n",
    "participation(\"Bob\")"
   ]
  },
  {
   "cell_type": "code",
   "execution_count": 19,
   "metadata": {
    "collapsed": false
   },
   "outputs": [
    {
     "name": "stdout",
     "output_type": "stream",
     "text": [
      "('Reading', 2.0)\n",
      "('Writing', 1.0)\n",
      "('Speaking', 2.5)\n",
      "('Listening', 3.0)\n",
      "None\n"
     ]
    }
   ],
   "source": [
    "def course_indict(name):\n",
    "    x = students[name]\n",
    "    reading = (\"Reading\", x['Reading'])\n",
    "    writing = (\"Writing\",x['Writing'])\n",
    "    speaking = (\"Speaking\", x['Speaking'])\n",
    "    listening = (\"Listening\", x['Listening'])\n",
    "    indict_list = (reading, writing, speaking, listening)\n",
    "    for value in indict_list:\n",
    "        print(value)\n",
    "\n",
    "print(course_indict('Dan'))"
   ]
  },
  {
   "cell_type": "code",
   "execution_count": 25,
   "metadata": {
    "collapsed": false,
    "scrolled": true
   },
   "outputs": [
    {
     "name": "stdout",
     "output_type": "stream",
     "text": [
      "('Written Test Average', 95.0)\n",
      "('Oral Exam Grade', 90.0)\n",
      "('Homework Completion', 97.0)\n",
      "None\n"
     ]
    }
   ],
   "source": [
    "def test_assign_grade(name):\n",
    "    x = students[name]\n",
    "    assess_list = (('Written Test Average', x['Written Test Average']), ('Oral Exam Grade', x['Oral Exam Grade']), ('Homework Completion', x['Homework Completion']))\n",
    "    for grade in assess_list:\n",
    "        print(grade)\n",
    "print (test_assign_grade('Jessie'))"
   ]
  },
  {
   "cell_type": "code",
   "execution_count": 34,
   "metadata": {
    "collapsed": false
   },
   "outputs": [
    {
     "name": "stdout",
     "output_type": "stream",
     "text": [
      "I would like to have more homework turned in so that you can thrive in this class. Seems like COVID has been hard for you.\n"
     ]
    }
   ],
   "source": [
    "def final_comment(name):\n",
    "    x = students[name]\n",
    "    return x['Additional information']\n",
    "print(final_comment('Dan'))"
   ]
  },
  {
   "cell_type": "code",
   "execution_count": 32,
   "metadata": {
    "collapsed": false
   },
   "outputs": [
   ],
   "source": [
    "def write_comment(student):\n",
    "    with open(f\"{student}.txt\", \"w\") as comment:\n",
    "        comment.write(course_description(student))\n",
    "        "
   ]
  },
  {
   "cell_type": "code",
   "execution_count": 0,
   "metadata": {
    "collapsed": false
   },
   "outputs": [
   ],
   "source": [
   ]
  }
 ],
 "metadata": {
  "kernelspec": {
   "display_name": "Python 3 (Anaconda 2020)",
   "env": {
    "ADDR2LINE": "/ext/anaconda2020.02/bin/x86_64-conda_cos6-linux-gnu-addr2line",
    "ANACONDA2019": "$EXT/anaconda-2019.03",
    "ANACONDA2020": "/ext/anaconda2020.02",
    "ANACONDA3": "$EXT/anaconda3",
    "ANACONDA5": "$EXT/anaconda5",
    "AR": "/ext/anaconda2020.02/bin/x86_64-conda_cos6-linux-gnu-ar",
    "AS": "/ext/anaconda2020.02/bin/x86_64-conda_cos6-linux-gnu-as",
    "CC": "/ext/anaconda2020.02/bin/x86_64-conda_cos6-linux-gnu-cc",
    "CFLAGS": "-march=nocona -mtune=haswell -ftree-vectorize -fPIC -fstack-protector-strong -fno-plt -O2 -ffunction-sections -pipe -isystem /ext/anaconda2020.02/include",
    "CMAKE_PREFIX_PATH": "/ext/anaconda2020.02:/ext/anaconda2020.02/x86_64-conda_cos6-linux-gnu/sysroot/usr",
    "CONDA_BACKUP_HOST": "x86_64-conda_cos6-linux-gnu",
    "CONDA_BUILD_SYSROOT": "/ext/anaconda2020.02/x86_64-conda_cos6-linux-gnu/sysroot",
    "CONDA_DEFAULT_ENV": "base",
    "CONDA_EXE": "/ext/anaconda2020.02/bin/conda",
    "CONDA_MKL_INTERFACE_LAYER_BACKUP": "",
    "CONDA_PREFIX": "/ext/anaconda2020.02",
    "CONDA_PROMPT_MODIFIER": "(base) ",
    "CONDA_PYTHON_EXE": "/ext/anaconda2020.02/bin/python",
    "CONDA_SHLVL": "1",
    "CPP": "/ext/anaconda2020.02/bin/x86_64-conda_cos6-linux-gnu-cpp",
    "CPPFLAGS": "-DNDEBUG -D_FORTIFY_SOURCE=2 -O2 -isystem /ext/anaconda2020.02/include",
    "CXX": "/ext/anaconda2020.02/bin/x86_64-conda_cos6-linux-gnu-c++",
    "CXXFILT": "/ext/anaconda2020.02/bin/x86_64-conda_cos6-linux-gnu-c++filt",
    "CXXFLAGS": "-fvisibility-inlines-hidden -std=c++17 -fmessage-length=0 -march=nocona -mtune=haswell -ftree-vectorize -fPIC -fstack-protector-strong -fno-plt -O2 -ffunction-sections -pipe -isystem /ext/anaconda2020.02/include",
    "DEBUG_CFLAGS": "-march=nocona -mtune=haswell -ftree-vectorize -fPIC -fstack-protector-all -fno-plt -Og -g -Wall -Wextra -fvar-tracking-assignments -ffunction-sections -pipe -isystem /ext/anaconda2020.02/include",
    "DEBUG_CPPFLAGS": "-D_DEBUG -D_FORTIFY_SOURCE=2 -Og -isystem /ext/anaconda2020.02/include",
    "DEBUG_CXXFLAGS": "-fvisibility-inlines-hidden -std=c++17 -fmessage-length=0 -march=nocona -mtune=haswell -ftree-vectorize -fPIC -fstack-protector-all -fno-plt -Og -g -Wall -Wextra -fvar-tracking-assignments -ffunction-sections -pipe -isystem /ext/anaconda2020.02/include",
    "DEBUG_FFLAGS": "-fopenmp -march=nocona -mtune=haswell -ftree-vectorize -fPIC -fstack-protector-strong -fno-plt -O2 -ffunction-sections -pipe -isystem /ext/anaconda2020.02/include -fopenmp -march=nocona -mtune=haswell -ftree-vectorize -fPIC -fstack-protector-all -fno-plt -Og -g -Wall -Wextra -fcheck=all -fbacktrace -fimplicit-none -fvar-tracking-assignments -ffunction-sections -pipe",
    "DEBUG_FORTRANFLAGS": "-fopenmp -march=nocona -mtune=haswell -ftree-vectorize -fPIC -fstack-protector-strong -fno-plt -O2 -ffunction-sections -pipe -isystem /ext/anaconda2020.02/include -fopenmp -march=nocona -mtune=haswell -ftree-vectorize -fPIC -fstack-protector-all -fno-plt -Og -g -Wall -Wextra -fcheck=all -fbacktrace -fimplicit-none -fvar-tracking-assignments -ffunction-sections -pipe",
    "ELFEDIT": "/ext/anaconda2020.02/bin/x86_64-conda_cos6-linux-gnu-elfedit",
    "F77": "/ext/anaconda2020.02/bin/x86_64-conda_cos6-linux-gnu-gfortran",
    "F90": "/ext/anaconda2020.02/bin/x86_64-conda_cos6-linux-gnu-gfortran",
    "F95": "/ext/anaconda2020.02/bin/x86_64-conda_cos6-linux-gnu-f95",
    "FC": "/ext/anaconda2020.02/bin/x86_64-conda_cos6-linux-gnu-gfortran",
    "FFLAGS": "-fopenmp -march=nocona -mtune=haswell -ftree-vectorize -fPIC -fstack-protector-strong -fno-plt -O2 -ffunction-sections -pipe -isystem /ext/anaconda2020.02/include",
    "FORTRANFLAGS": "-fopenmp -march=nocona -mtune=haswell -ftree-vectorize -fPIC -fstack-protector-strong -fno-plt -O2 -ffunction-sections -pipe -isystem /ext/anaconda2020.02/include",
    "GCC": "/ext/anaconda2020.02/bin/x86_64-conda_cos6-linux-gnu-gcc",
    "GCC_AR": "/ext/anaconda2020.02/bin/x86_64-conda_cos6-linux-gnu-gcc-ar",
    "GCC_NM": "/ext/anaconda2020.02/bin/x86_64-conda_cos6-linux-gnu-gcc-nm",
    "GCC_RANLIB": "/ext/anaconda2020.02/bin/x86_64-conda_cos6-linux-gnu-gcc-ranlib",
    "GDAL_DATA": "/ext/anaconda2020.02/share/gdal",
    "GFORTRAN": "/ext/anaconda2020.02/bin/x86_64-conda_cos6-linux-gnu-gfortran",
    "GPROF": "/ext/anaconda2020.02/bin/x86_64-conda_cos6-linux-gnu-gprof",
    "GXX": "/ext/anaconda2020.02/bin/x86_64-conda_cos6-linux-gnu-g++",
    "JAVA_HOME": "/ext/anaconda2020.02",
    "JAVA_HOME_CONDA_BACKUP": "",
    "JAVA_LD_LIBRARY_PATH": "/ext/anaconda2020.02/lib/server",
    "LD": "/ext/anaconda2020.02/bin/x86_64-conda_cos6-linux-gnu-ld",
    "LDFLAGS": "-Wl,-O2 -Wl,--sort-common -Wl,--as-needed -Wl,-z,relro -Wl,-z,now -Wl,--disable-new-dtags -Wl,--gc-sections -Wl,-rpath,/ext/anaconda2020.02/lib -Wl,-rpath-link,/ext/anaconda2020.02/lib -L/ext/anaconda2020.02/lib",
    "LD_GOLD": "/ext/anaconda2020.02/bin/x86_64-conda_cos6-linux-gnu-ld.gold",
    "LD_LIBRARY_PATH": "/ext/anaconda2020.02/lib",
    "MKL_INTERFACE_LAYER": "LP64,GNU",
    "MKL_THREADING_LAYER": "GNU",
    "NM": "/ext/anaconda2020.02/bin/x86_64-conda_cos6-linux-gnu-nm",
    "OBJCOPY": "/ext/anaconda2020.02/bin/x86_64-conda_cos6-linux-gnu-objcopy",
    "OBJDUMP": "/ext/anaconda2020.02/bin/x86_64-conda_cos6-linux-gnu-objdump",
    "OLDPWD": "/ext/anaconda2020.02",
    "PATH": "/ext/anaconda2020.02/bin:/ext/anaconda2020.02/bin:/ext/anaconda2020.02/condabin:/cocalc/bin:/cocalc/src/smc-project/bin:/home/salvus/bin:/home/salvus/.local/bin:/usr/lib/xpra:/ext/bin:/opt/ghc/bin:/usr/local/sbin:/usr/local/bin:/usr/sbin:/usr/bin:/sbin:/bin:/snap/bin:/usr/lib/postgresql/10/bin:/ext/data/homer/bin:/ext/data/weblogo",
    "PROJ_LIB": "/ext/anaconda2020.02/share/proj",
    "RANLIB": "/ext/anaconda2020.02/bin/x86_64-conda_cos6-linux-gnu-ranlib",
    "READELF": "/ext/anaconda2020.02/bin/x86_64-conda_cos6-linux-gnu-readelf",
    "RSTUDIO_WHICH_R": "/ext/anaconda2020.02/bin/R",
    "SIZE": "/ext/anaconda2020.02/bin/x86_64-conda_cos6-linux-gnu-size",
    "STRINGS": "/ext/anaconda2020.02/bin/x86_64-conda_cos6-linux-gnu-strings",
    "STRIP": "/ext/anaconda2020.02/bin/x86_64-conda_cos6-linux-gnu-strip",
    "_CE_CONDA": "",
    "_CE_M": "",
    "_CONDA_PYTHON_SYSCONFIGDATA_NAME": "_sysconfigdata_x86_64_conda_cos6_linux_gnu"
   },
   "language": "python",
   "metadata": {
    "cocalc": {
     "description": "Python/R distribution for data science",
     "priority": 5,
     "url": "https://www.anaconda.com/distribution/"
    }
   },
   "name": "anaconda2020",
   "resource_dir": "/ext/jupyter/kernels/anaconda2020"
  },
  "language_info": {
   "codemirror_mode": {
    "name": "ipython",
    "version": 3
   },
   "file_extension": ".py",
   "mimetype": "text/x-python",
   "name": "python",
   "nbconvert_exporter": "python",
   "pygments_lexer": "ipython3",
   "version": "3.7.8"
  }
 },
 "nbformat": 4,
 "nbformat_minor": 4
}